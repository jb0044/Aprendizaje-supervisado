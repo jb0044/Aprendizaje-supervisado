{
 "cells": [
  {
   "cell_type": "markdown",
   "metadata": {},
   "source": [
    "¡Hola Jorge! Como te va?\n",
    "\n",
    "Mi nombre es Facundo Lozano! Un gusto conocerte, seré tu revisor en este proyecto.\n",
    "\n",
    "A continuación un poco sobre la modalidad de revisión que usaremos:\n",
    "\n",
    "Cuando enccuentro un error por primera vez, simplemente lo señalaré, te dejaré encontrarlo y arreglarlo tú cuenta. Además, a lo largo del texto iré haciendo algunas observaciones sobre mejora en tu código y también haré comentarios sobre tus percepciones sobre el tema. Pero si aún no puedes realizar esta tarea, te daré una pista más precisa en la próxima iteración y también algunos ejemplos prácticos. Estaré abierto a comentarios y discusiones sobre el tema.\n",
    "\n",
    "Encontrará mis comentarios a continuación: **no los mueva, modifique ni elimine**.\n",
    "\n",
    "Puedes encontrar mis comentarios en cuadros verdes, amarillos o rojos como este:\n",
    "\n",
    "<div class=\"alert alert-block alert-success\">\n",
    "<b>Comentario del revisor.</b> <a class=\"tocSkip\"></a>\n",
    "\n",
    "Exito. Todo se ha hecho de forma exitosa.\n",
    "</div>\n",
    "\n",
    "<div class=\"alert alert-block alert-warning\">\n",
    "<b>Comentario del revisor.</b> <a class=\"tocSkip\"></a>\n",
    "\n",
    "Observación. Algunas recomendaciones.\n",
    "</div>\n",
    "\n",
    "<div class=\"alert alert-block alert-danger\">\n",
    "\n",
    "<b>Comentario del revisor.</b> <a class=\"tocSkip\"></a>\n",
    "\n",
    "Necesita arreglos. Este apartado necesita algunas correcciones. El trabajo no puede ser aceptado con comentarios rojos. \n",
    "</div>\n",
    "\n",
    "Puedes responder utilizando esto:\n",
    "\n",
    "<div class=\"alert alert-block alert-info\">\n",
    "<b>Respuesta de estudiante.</b> <a class=\"tocSkip\"></a>\n",
    "</div> Hola Facundo, buenas tardes! No entiendo la nueva corrección que me estas pidiendo, según yo estoy abarcando todas las indicaciones del proyecto, lo platiqué con varios colegas y ellos tienen su proyecto similar al mío, podrías ser más especifíco con la corrección, ya que no me esta quedando claro que debo de hacer.\n",
    "\n",
    "Saludos!!!"
   ]
  },
  {
   "cell_type": "markdown",
   "metadata": {},
   "source": [
    "## Descripción del proyecto\n",
    "\n",
    "Los clientes de Beta Bank se están yendo, cada mes, poco a poco. Los banqueros descubrieron que es más barato salvar a los clientes existentes que atraer nuevos.\n",
    "\n",
    "Necesitamos predecir si un cliente dejará el banco pronto. Tú tienes los datos sobre el comportamiento pasado de los clientes y la terminación de contratos con el banco.\n",
    "\n",
    "Crea un modelo con el máximo valor F1 posible. Para aprobar la revisión, necesitas un valor F1 de al menos 0.59. Verifica F1 para el conjunto de prueba. \n",
    "\n",
    "Además, debes medir la métrica AUC-ROC y compararla con el valor F1.\n",
    "Instrucciones del proyecto\n",
    "\n",
    "1- Descarga y prepara los datos.  Explica el procedimiento.\n",
    "\n",
    "2- Examina el equilibrio de clases. Entrena el modelo sin tener en cuenta el desequilibrio. Describe brevemente tus hallazgos.\n",
    "\n",
    "3- Mejora la calidad del modelo. Asegúrate de utilizar al menos dos enfoques para corregir el desequilibrio de clases. Utiliza conjuntos de entrenamiento y validación para encontrar el mejor modelo y el mejor conjunto de parámetros. Entrena diferentes modelos en los conjuntos de entrenamiento y validación. Encuentra el mejor. Describe brevemente tus hallazgos.\n",
    "\n",
    "4- Realiza la prueba final."
   ]
  },
  {
   "cell_type": "markdown",
   "metadata": {},
   "source": [
    "<div class=\"alert alert-block alert-success\">\n",
    "<b>Review General. (Iteración 2) </b> <a class=\"tocSkip\"></a>\n",
    "\n",
    "Jorge, veo que no hemos agregado un segundo modelo diferente al que ya veníamos trabajando RandomForestClassifier, lo ideal sería agregar otro modelo diferente de clasficación para poder hacer comparativas en todas las situaciones (con desbalanceo, sin desbalanceo,etc) posibles. Nada que nos demoré mucho :) te he dejado nuevamente un comentario al respecto.\n",
    "    \n",
    "Espero con ansias a nuestra próxima iteraición Jorge! Éxitos y saludos!"
   ]
  },
  {
   "cell_type": "markdown",
   "metadata": {},
   "source": [
    "<div class=\"alert alert-block alert-success\">\n",
    "<b>Review General. (Iteración 1) </b> <a class=\"tocSkip\"></a>\n",
    "\n",
    "Jorge, quería tomarme este tiempo al inicio de tu proyecto para comentarte mis apreciaciones generales de esta iteración de tu entrega.\n",
    "\n",
    "Siempre me gusta comenzar dando la bienvenida al mundo de los datos a los estudiantes, te deseo lo mejor y espero que consigas lograr tus objetivos. Personalmente me gusta brindar el siguiente consejo, \"Está bien equivocarse, es normal y es lo mejor que te puede pasar. Aprendemos de los errores y eso te hará mejor programador ya que podrás descubrir cosas a medida que avances y son estas cosas las que te darán esa experiencia para ser un gran cientifico de datos.\"\n",
    "    \n",
    "Ahora si yendo a esta notebook. Hemos hecho un muy buen trabajo Jorge, a nivel general todo el procedimiento cumple con aquellos puntos escenciales del proyecto, se nota tu gran manejo sobre las herramientas y te felicito por ello. Simplemente hubo unos detalles importantes que debemos agregar pero seguro te tomara unos minutos.\n",
    "\n",
    "Espero con ansias a nuestra próxima iteración, éxitos y saludos Jorge!"
   ]
  },
  {
   "cell_type": "markdown",
   "metadata": {},
   "source": [
    "# 1- Descarga y prepara los datos. Explica el procedimiento."
   ]
  },
  {
   "cell_type": "code",
   "execution_count": 1,
   "metadata": {},
   "outputs": [],
   "source": [
    "#Importación de librerías\n",
    "import pandas as pd\n",
    "from sklearn.model_selection import train_test_split\n",
    "from sklearn.ensemble import RandomForestClassifier\n",
    "from sklearn.tree import DecisionTreeClassifier\n",
    "from sklearn.linear_model import LogisticRegression\n",
    "from sklearn.metrics import accuracy_score \n",
    "from sklearn.utils import shuffle\n",
    "from sklearn.metrics import f1_score, roc_auc_score"
   ]
  },
  {
   "cell_type": "code",
   "execution_count": 2,
   "metadata": {},
   "outputs": [
    {
     "name": "stdout",
     "output_type": "stream",
     "text": [
      "(10000, 14)\n",
      "   RowNumber  CustomerId   Surname  CreditScore Geography  Gender  Age  \\\n",
      "0          1    15634602  Hargrave          619    France  Female   42   \n",
      "1          2    15647311      Hill          608     Spain  Female   41   \n",
      "2          3    15619304      Onio          502    France  Female   42   \n",
      "3          4    15701354      Boni          699    France  Female   39   \n",
      "4          5    15737888  Mitchell          850     Spain  Female   43   \n",
      "\n",
      "   Tenure    Balance  NumOfProducts  HasCrCard  IsActiveMember  \\\n",
      "0     2.0       0.00              1          1               1   \n",
      "1     1.0   83807.86              1          0               1   \n",
      "2     8.0  159660.80              3          1               0   \n",
      "3     1.0       0.00              2          0               0   \n",
      "4     2.0  125510.82              1          1               1   \n",
      "\n",
      "   EstimatedSalary  Exited  \n",
      "0        101348.88       1  \n",
      "1        112542.58       0  \n",
      "2        113931.57       1  \n",
      "3         93826.63       0  \n",
      "4         79084.10       0  \n",
      "<class 'pandas.core.frame.DataFrame'>\n",
      "RangeIndex: 10000 entries, 0 to 9999\n",
      "Data columns (total 14 columns):\n",
      " #   Column           Non-Null Count  Dtype  \n",
      "---  ------           --------------  -----  \n",
      " 0   RowNumber        10000 non-null  int64  \n",
      " 1   CustomerId       10000 non-null  int64  \n",
      " 2   Surname          10000 non-null  object \n",
      " 3   CreditScore      10000 non-null  int64  \n",
      " 4   Geography        10000 non-null  object \n",
      " 5   Gender           10000 non-null  object \n",
      " 6   Age              10000 non-null  int64  \n",
      " 7   Tenure           9091 non-null   float64\n",
      " 8   Balance          10000 non-null  float64\n",
      " 9   NumOfProducts    10000 non-null  int64  \n",
      " 10  HasCrCard        10000 non-null  int64  \n",
      " 11  IsActiveMember   10000 non-null  int64  \n",
      " 12  EstimatedSalary  10000 non-null  float64\n",
      " 13  Exited           10000 non-null  int64  \n",
      "dtypes: float64(3), int64(8), object(3)\n",
      "memory usage: 1.1+ MB\n",
      "None\n"
     ]
    }
   ],
   "source": [
    "#Se abre y examina el archivo de datos\n",
    "data = pd.read_csv('/datasets/Churn.csv')\n",
    "\n",
    "print(data.shape)\n",
    "print(data.head(5))\n",
    "print(data.info())"
   ]
  },
  {
   "cell_type": "markdown",
   "metadata": {},
   "source": [
    "<div class=\"alert alert-block alert-success\">\n",
    "<b>Comentario del revisor. (Iteración 1)</b> <a class=\"tocSkip\"></a>\n",
    "\n",
    "Hasta aquí hemos hecho una gran cantidad de avances, por un lado la importación de libererías es excelente, la carga de datos es correcta y el trabajo la observación de la composición de nuestros datos fue excelente. Bien hecho Jorge!"
   ]
  },
  {
   "cell_type": "code",
   "execution_count": 3,
   "metadata": {},
   "outputs": [
    {
     "name": "stdout",
     "output_type": "stream",
     "text": [
      "909\n"
     ]
    }
   ],
   "source": [
    "# Verificar si hay valores nulos en el DataFrame\n",
    "\n",
    "print(data['Tenure'].isnull().sum())\n"
   ]
  },
  {
   "cell_type": "code",
   "execution_count": 4,
   "metadata": {},
   "outputs": [
    {
     "name": "stdout",
     "output_type": "stream",
     "text": [
      "0\n"
     ]
    }
   ],
   "source": [
    "#Se reemplazan los valores nulos de 'Tenure' con ceros\n",
    "data['Tenure'] = data['Tenure'].fillna(0)\n",
    "print(data['Tenure'].isnull().sum())"
   ]
  },
  {
   "cell_type": "markdown",
   "metadata": {},
   "source": [
    "<div class=\"alert alert-block alert-success\">\n",
    "<b>Comentario del revisor. (Iteración 1)</b> <a class=\"tocSkip\"></a>\n",
    "\n",
    "Excelente trabajo sobre aquellos valores ausentes en nuestra feature Ternura, sigamos!"
   ]
  },
  {
   "cell_type": "markdown",
   "metadata": {},
   "source": [
    "En esta primera parte se importaron las librerías necesarias para el desarrollo del proyecto, se analizaron los datos en las columnas, la única con valores nulos fue la de 'Tenure', estos se sustituyeron por ceros. El resto de columnas no contaba con valores ausentes y los tipos de datos si corresponden con los valores de las columnas."
   ]
  },
  {
   "cell_type": "markdown",
   "metadata": {},
   "source": [
    "# 2- Examina el equilibrio de clases. Entrena el modelo sin tener en cuenta el desequilibrio. Describe brevemente tus hallazgos."
   ]
  },
  {
   "cell_type": "code",
   "execution_count": 5,
   "metadata": {},
   "outputs": [
    {
     "name": "stdout",
     "output_type": "stream",
     "text": [
      "Distribución de clases:\n",
      "0    7963\n",
      "1    2037\n",
      "Name: Exited, dtype: int64\n"
     ]
    }
   ],
   "source": [
    "#Examinar las clases\n",
    "\n",
    "class_distribution = data['Exited'].value_counts()\n",
    "print(\"Distribución de clases:\")\n",
    "print(class_distribution)"
   ]
  },
  {
   "cell_type": "markdown",
   "metadata": {},
   "source": [
    "<div class=\"alert alert-block alert-success\">\n",
    "<b>Comentario del revisor. (Iteración 1)</b> <a class=\"tocSkip\"></a>\n",
    "\n",
    "Tal como debíamos! Un excelente análisis sobre el balanceo de nuestra clase a predecir, muy bien hecho! Si quisieramos mejorarlo podríamos agregar una gráfica que nos permita ver esta distribución con mayor facilidad."
   ]
  },
  {
   "cell_type": "markdown",
   "metadata": {},
   "source": [
    "Se observa un claro problema de desbalance en la distribución de clases, se ha analizado la variable a predecir o la target(x) ('Exited')."
   ]
  },
  {
   "cell_type": "code",
   "execution_count": 6,
   "metadata": {},
   "outputs": [],
   "source": [
    "#Entrena el modelo sin tener en cuenta el desequilibrio\n",
    "\n",
    "data = pd.get_dummies(data, columns=['Geography', 'Gender'], drop_first=True)\n",
    "\n",
    "features = data.drop(columns=['RowNumber', 'CustomerId', 'Surname', 'Exited'], axis = 1)\n",
    "target = data['Exited']\n"
   ]
  },
  {
   "cell_type": "markdown",
   "metadata": {},
   "source": [
    "<div class=\"alert alert-block alert-success\">\n",
    "<b>Comentario del revisor. (Iteración 1)</b> <a class=\"tocSkip\"></a>\n",
    "\n",
    "Implementaciones perfectas de nuestras transformaciones hacia las features categóricas como a la vez la eliminación de features que no aportar valor al modelo, excelente Jorge!"
   ]
  },
  {
   "cell_type": "markdown",
   "metadata": {},
   "source": [
    "Se eliminaron aquellas features que no aportan valor al modelo, y se designaron las variables de features y la target para el desarrollo del modelo. Las variables categóricas 'Gender' y 'Geography' se convirtieron a variables dummy, transformándolas en numéricas por medio de la configuración One-Hot Encoding (OHE)."
   ]
  },
  {
   "cell_type": "markdown",
   "metadata": {},
   "source": [
    "# 3- Mejora la calidad del modelo. Asegúrate de utilizar al menos dos enfoques para corregir el desequilibrio de clases. Utiliza conjuntos de entrenamiento y validación para encontrar el mejor modelo y el mejor conjunto de parámetros. Entrena diferentes modelos en los conjuntos de entrenamiento y validación. Encuentra el mejor. Describe brevemente tus hallazgos."
   ]
  },
  {
   "cell_type": "code",
   "execution_count": 7,
   "metadata": {},
   "outputs": [],
   "source": [
    "#División del conjunto de datos en dos: conjunto de prueba (20%) y el resto (conjunto de validación + conjuntos de entrenamiento) (80%)\n",
    "\n",
    "features_80, features_test, target_80, target_test = train_test_split(features, target, test_size=0.20, random_state=12345)\n",
    "\n",
    "# División del conjunto de datos restante en conjunto de entrenamiento (60%) y conjunto de validación (20%)\n",
    "\n",
    "features_train, features_valid, target_train, target_valid = train_test_split(features_80, target_80, test_size=0.25, random_state=12345)\n"
   ]
  },
  {
   "cell_type": "markdown",
   "metadata": {},
   "source": [
    "<div class=\"alert alert-block alert-success\">\n",
    "<b>Comentario del revisor. (Iteración 1)</b> <a class=\"tocSkip\"></a>\n",
    "\n",
    "Una división de nuestros datos excelente, tal como se debía hemos dividido en los 3 conjuntos correspondientes."
   ]
  },
  {
   "cell_type": "markdown",
   "metadata": {},
   "source": [
    "Se dividierón los datos en los 3 conjuntos correspondientes."
   ]
  },
  {
   "cell_type": "code",
   "execution_count": 8,
   "metadata": {},
   "outputs": [],
   "source": [
    "model = RandomForestClassifier(random_state=12345)\n",
    "model.fit(features_train, target_train)\n",
    "predictions_test = model.predict(features_test)"
   ]
  },
  {
   "cell_type": "code",
   "execution_count": 9,
   "metadata": {},
   "outputs": [
    {
     "name": "stdout",
     "output_type": "stream",
     "text": [
      "Modelo sin corregir desequilibrio de clases:\n",
      "\n",
      "AUC-ROC Score: 0.8470257614219249\n",
      "F1 Score:  0.5654952076677316\n"
     ]
    }
   ],
   "source": [
    "probabilities_valid = model.predict_proba(features_valid)\n",
    "probabilities_one_valid = probabilities_valid[:, 1]\n",
    "\n",
    "auc_roc = roc_auc_score(target_valid, probabilities_one_valid)\n",
    "\n",
    "predicted_valid = model.predict(features_valid)\n",
    "f1_score_value = f1_score(target_valid, predicted_valid)\n",
    "\n",
    "\n",
    "print(\"Modelo sin corregir desequilibrio de clases:\")\n",
    "print()\n",
    "print(\"AUC-ROC Score:\", auc_roc)\n",
    "print(\"F1 Score: \", f1_score_value)\n"
   ]
  },
  {
   "cell_type": "markdown",
   "metadata": {},
   "source": [
    "<div class=\"alert alert-block alert-success\">\n",
    "<b>Comentario del revisor. (Iteración 1)</b> <a class=\"tocSkip\"></a>\n",
    "\n",
    "Excelente implementación del modelo Jorge, en este caso sin tener en cuenta el desbalanceo. A la vez excelente calculo de las métricas correspondientes. Bien hecho!"
   ]
  },
  {
   "cell_type": "markdown",
   "metadata": {},
   "source": [
    "<div class=\"alert alert-block alert-danger\">\n",
    "<b>Comentario del revisor. (Iteración 1)</b> <a class=\"tocSkip\"></a>\n",
    "\n",
    "Veo que solo hemos entrenaod un modelo en todo el proyecto Jorge, el proyecto requiere al menos que creemos 2 modelos, por esta razón te invito a que crees un nuevo modelo y repliques los procedimientos para ámbos."
   ]
  },
  {
   "cell_type": "markdown",
   "metadata": {},
   "source": [
    "<div class=\"alert alert-block alert-danger\">\n",
    "<b>Comentario del revisor. (Iteración 2)</b> <a class=\"tocSkip\"></a>\n",
    "\n",
    "Veo que aún no hemos creado un modelo diferente Jorge, cuando nos referimos a otro modelo significar un algoritmo totalmente diferente y no diferentes alternativas del mismo. Nosotros actualmente estamos entrenando un RandomForestClassifier(), deberíamos implementar algun otro como LogisticRegression o DecisionTreeClassifier, etc. "
   ]
  },
  {
   "cell_type": "markdown",
   "metadata": {},
   "source": [
    "Los datos han sido divididos en un conjunto de prueba (20%) y un conjunto de entrenamiento y validación (80%). Dicho conjunto de validación y entrenamiento se volvió a dividir en un conjunto de entrenamiento (60% del total) y un conjunto de validación del 20% del total.\n",
    "\n",
    "Los valores de AUC-ROC y F1 que arrojó el modelo sin corregir fueron estos:\n",
    "\n",
    "AUC-ROC Score: 0.8470\n",
    "F1 Score: 0.5655\n",
    "\n",
    "\n",
    "El valor F1 es la media armónica de recall y precisión. Un valor F1 cercano a cero mostrará que la predicción de la clase 1 ha fallado.\n",
    "\n",
    "La curva ROC es una línea diagonal que va desde la esquina inferior izquierda hasta la esquina superior derecha. Cuanto más se aleje la curva ROC de esta línea diagonal hacia la esquina superior izquierda, mejor será el modelo, ya que indica una mayor relación TVP-TFP.\n",
    "\n",
    "Los resultados generados por el modelo muestran que tiene capacidad para la discriminación entre las clases debido a su AUC-ROC alto, a diferencia del F1 score que aparece bajo, aparentemente causado por el desequilibrio  de clases, causando un efecto de recall y precisión en la clase minoritaria que se refiere a los clientes que abandonaron."
   ]
  },
  {
   "cell_type": "markdown",
   "metadata": {},
   "source": [
    "# 3- Mejora la calidad del modelo. Asegúrate de utilizar al menos dos enfoques para corregir el desequilibrio de clases. Utiliza conjuntos de entrenamiento y validación para encontrar el mejor modelo y el mejor conjunto de parámetros. Entrena diferentes modelos en los conjuntos de entrenamiento y validación. Encuentra el mejor. Describe brevemente tus hallazgos."
   ]
  },
  {
   "cell_type": "code",
   "execution_count": 10,
   "metadata": {},
   "outputs": [],
   "source": [
    "#Corrección del desequilibrio de clases mediante sobremuestreo.\n",
    "\n",
    "def upsample(features, target, repeat):\n",
    "    features_zeros = features[target == 0]\n",
    "    features_ones = features[target == 1]\n",
    "    target_zeros = target[target == 0]\n",
    "    target_ones = target[target == 1]\n",
    "\n",
    "    features_upsampled = pd.concat([features_zeros] + [features_ones] * repeat)\n",
    "    target_upsampled = pd.concat([target_zeros] + [target_ones] * repeat)\n",
    "\n",
    "    features_upsampled, target_upsampled = shuffle(\n",
    "        features_upsampled, target_upsampled, random_state=12345\n",
    "    )\n",
    "\n",
    "    return features_upsampled, target_upsampled"
   ]
  },
  {
   "cell_type": "code",
   "execution_count": 11,
   "metadata": {},
   "outputs": [],
   "source": [
    "#Corrección del desequilibrio de clases mediante submuestreo.\n",
    "\n",
    "def downsample(features, target, fraction):\n",
    "    features_zeros = features[target == 0]\n",
    "    features_ones = features[target == 1]\n",
    "    target_zeros = target[target == 0]\n",
    "    target_ones = target[target == 1]\n",
    "\n",
    "    features_downsampled = pd.concat(\n",
    "        [features_zeros.sample(frac=fraction, random_state=12345)]\n",
    "        + [features_ones]\n",
    "    )\n",
    "    target_downsampled = pd.concat(\n",
    "        [target_zeros.sample(frac=fraction, random_state=12345)]\n",
    "        + [target_ones]\n",
    "    )\n",
    "\n",
    "    features_downsampled, target_downsampled = shuffle(\n",
    "        features_downsampled, target_downsampled, random_state=12345\n",
    "    )\n",
    "\n",
    "    return features_downsampled, target_downsampled\n"
   ]
  },
  {
   "cell_type": "markdown",
   "metadata": {},
   "source": [
    "<div class=\"alert alert-block alert-success\">\n",
    "<b>Comentario del revisor. (Iteración 1)</b> <a class=\"tocSkip\"></a>\n",
    "\n",
    "Excelentes implementaciones de los métodos para mitigar el desbalanceo de nuestro problema, implementación perfecta!"
   ]
  },
  {
   "cell_type": "markdown",
   "metadata": {},
   "source": [
    "Se han aplicado dos alternativas de técnicas, sobremuestreo y submuestreo para la mitigación del desequilibrio de clases en problemas de aprendizaje automático. \n",
    "- Sobremuestreo (Upsampling): Se aumentan la cantidad de casos de la clase minoritaria que corresponde a exclientes para igualar a la clase mayoritaria.\n",
    "- Submuestreo (Downsampling): Se reduce la cantidad de casos de la clase mayoritaria de clientes cautivos para igualarla a la clase minoritaria."
   ]
  },
  {
   "cell_type": "code",
   "execution_count": 12,
   "metadata": {},
   "outputs": [],
   "source": [
    "# Entrenamiento con diferentes conjuntos de entrenamiento y validación para encontrar el mejor modelo y el mejor conjunto de parámetros.\n",
    "\n",
    "best_f1 = 0\n",
    "best_model = None\n",
    "\n",
    "for n_estimators in [10, 25, 50, 75, 100]:\n",
    "    for max_depth in range(1,20):\n",
    "        \n",
    "        # Sobremuestreo\n",
    "        \n",
    "        features_upsampled, target_upsampled = upsample(features_train, target_train, 10)\n",
    "        model_upsampled = RandomForestClassifier(n_estimators=n_estimators, max_depth=max_depth, random_state=12345)\n",
    "        model_upsampled.fit(features_upsampled, target_upsampled)\n",
    "        predictions_valid_upsampled = model_upsampled.predict(features_valid)\n",
    "        f1_score_upsampled_value = f1_score(target_valid, predictions_valid_upsampled)\n",
    "\n",
    "        if f1_score_upsampled_value > best_f1:\n",
    "            best_f1 = f1_score_upsampled_value\n",
    "            best_model = model_upsampled\n",
    "            best_params = {'model': 'RandomForest', 'n_estimators': n_estimators, 'max_depht': max_depth}\n",
    "            \n",
    "            \n",
    "        # Submuestreo\n",
    "        \n",
    "        features_downsampled, target_downsampled = downsample(features_train, target_train, 0.1)\n",
    "        model_downsampled = RandomForestClassifier(n_estimators=n_estimators, max_depth=max_depth, random_state=12345)\n",
    "        model_downsampled.fit(features_downsampled, target_downsampled)\n",
    "        predictions_valid_downsampled = model_downsampled.predict(features_valid)\n",
    "        f1_score_downsampled_value = f1_score(target_valid, predictions_valid_downsampled)\n",
    "        \n",
    "        if f1_score_downsampled_value > best_f1:\n",
    "            best_f1 = f1_score_downsampled_value\n",
    "            best_model = model_downsampled\n",
    "            best_params = {'model': 'RandomForest', 'n_estimators': n_estimators, 'max_depht': max_depth}\n",
    "            \n"
   ]
  },
  {
   "cell_type": "code",
   "execution_count": 13,
   "metadata": {},
   "outputs": [
    {
     "name": "stdout",
     "output_type": "stream",
     "text": [
      "RandomForestClassifier(max_depth=18, random_state=12345)\n",
      "n_estimators:  100\n",
      "max_depht:  18\n"
     ]
    }
   ],
   "source": [
    "print(best_model)\n",
    "print('n_estimators: ' ,best_params['n_estimators'])\n",
    "print('max_depht: ', best_params['max_depht'])"
   ]
  },
  {
   "cell_type": "code",
   "execution_count": 14,
   "metadata": {},
   "outputs": [],
   "source": [
    "# Entrenamiento con diferentes conjuntos de entrenamiento y validación para encontrar el mejor modelo y el mejor conjunto de parámetros.\n",
    "\n",
    "best_f1 = 0\n",
    "best_model = None\n",
    "\n",
    "for max_depth in range(1,20):\n",
    "        \n",
    "        # Sobremuestreo\n",
    "        \n",
    "        features_upsampled, target_upsampled = upsample(features_train, target_train, 10)\n",
    "        model_upsampled = DecisionTreeClassifier(max_depth=max_depth, random_state=12345)\n",
    "        model_upsampled.fit(features_upsampled, target_upsampled)\n",
    "        predictions_valid_upsampled = model_upsampled.predict(features_valid)\n",
    "        f1_score_upsampled_value = f1_score(target_valid, predictions_valid_upsampled)\n",
    "\n",
    "        if f1_score_upsampled_value > best_f1:\n",
    "            best_f1 = f1_score_upsampled_value\n",
    "            best_model = model_upsampled\n",
    "            best_params = {'model': 'DecisionTreeClassifier', 'max_depht': max_depth}\n",
    "            \n",
    "            \n",
    "        # Submuestreo\n",
    "        \n",
    "        features_downsampled, target_downsampled = downsample(features_train, target_train, 0.1)\n",
    "        model_downsampled = DecisionTreeClassifier(max_depth=max_depth, random_state=12345)\n",
    "        model_downsampled.fit(features_downsampled, target_downsampled)\n",
    "        predictions_valid_downsampled = model_downsampled.predict(features_valid)\n",
    "        f1_score_downsampled_value = f1_score(target_valid, predictions_valid_downsampled)\n",
    "        \n",
    "        if f1_score_downsampled_value > best_f1:\n",
    "            best_f1 = f1_score_downsampled_value\n",
    "            best_model = model_downsampled\n",
    "            best_params = {'model': 'DecisionTreeClassifier', 'max_depht': max_depth}\n",
    "            \n"
   ]
  },
  {
   "cell_type": "code",
   "execution_count": 15,
   "metadata": {},
   "outputs": [
    {
     "name": "stdout",
     "output_type": "stream",
     "text": [
      "DecisionTreeClassifier(max_depth=5, random_state=12345)\n",
      "max_depht:  5\n"
     ]
    }
   ],
   "source": [
    "print(best_model)\n",
    "print('max_depht: ', best_params['max_depht'])"
   ]
  },
  {
   "cell_type": "code",
   "execution_count": 16,
   "metadata": {},
   "outputs": [],
   "source": [
    "best_f1 = 0\n",
    "best_model = None\n",
    "    \n",
    "    # Sobremuestreo\n",
    "        \n",
    "features_upsampled, target_upsampled = upsample(features_train, target_train, 10)\n",
    "model_upsampled = LogisticRegression()\n",
    "model_upsampled.fit(features_upsampled, target_upsampled)\n",
    "predictions_valid_upsampled = model_upsampled.predict(features_valid)\n",
    "f1_score_upsampled_value = f1_score(target_valid, predictions_valid_upsampled)\n",
    "\n",
    "if f1_score_upsampled_value > best_f1:\n",
    "    best_f1 = f1_score_upsampled_value\n",
    "    best_model = model_upsampled\n",
    "    \n",
    "            \n",
    "            \n",
    "        # Submuestreo\n",
    "        \n",
    "features_downsampled, target_downsampled = downsample(features_train, target_train, 0.1)\n",
    "model_downsampled = LogisticRegression()\n",
    "model_downsampled.fit(features_downsampled, target_downsampled)\n",
    "predictions_valid_downsampled = model_downsampled.predict(features_valid)\n",
    "f1_score_downsampled_value = f1_score(target_valid, predictions_valid_downsampled)\n",
    "        \n",
    "if f1_score_downsampled_value > best_f1:\n",
    "    best_f1 = f1_score_downsampled_value\n",
    "    best_model = model_downsampled\n",
    "   \n",
    "            \n"
   ]
  },
  {
   "cell_type": "code",
   "execution_count": 17,
   "metadata": {},
   "outputs": [
    {
     "name": "stdout",
     "output_type": "stream",
     "text": [
      "LogisticRegression()\n"
     ]
    }
   ],
   "source": [
    "print(best_model)"
   ]
  },
  {
   "cell_type": "markdown",
   "metadata": {},
   "source": [
    "<div class=\"alert alert-block alert-success\">\n",
    "<b>Comentario del revisor. (Iteración 1)</b> <a class=\"tocSkip\"></a>\n",
    "\n",
    "Impresionante! Un proceso muy completo y bien implementado, desde los loops iterando y viendo diferentes hiperparametros hasta el entrenamiento y testeo junto a las métricas tanto para los datos submuestreados y sobremuestredos. Excelente!"
   ]
  },
  {
   "cell_type": "markdown",
   "metadata": {},
   "source": [
    "Se implementó un loop para observar el impacto de distintos hiperparámetros sobre los modelos entrenados en los diferentes conjuntos previamente procesados y corregidos del desbalance. Se aplicó el modelo de RandomForestClassifier (n_estimators y max_depth). Se evaluarón los modelos de entrenamiento con datos submuestrados y sobremuestrados usando el conjunto de validación. Se ha seleccionado el mejor modelo con el mayor valor de F1 Score del conjunto con los siguientes hiperparámetros en dicho modelo:\n",
    "\n",
    "- n_estimators: 100\n",
    "- max_depth: 18\n"
   ]
  },
  {
   "cell_type": "markdown",
   "metadata": {},
   "source": [
    "# 4- Prueba final."
   ]
  },
  {
   "cell_type": "code",
   "execution_count": 18,
   "metadata": {},
   "outputs": [
    {
     "name": "stdout",
     "output_type": "stream",
     "text": [
      "Mejor modelo con corrección de desequilibrio de clases:\n",
      "F1 Score: 0.381950774840474\n",
      "AUC-ROC Score: 0.731429524276022\n"
     ]
    }
   ],
   "source": [
    "#Se evalúa al mejor modelo\n",
    "predictions_test = best_model.predict(features_test)\n",
    "f1_score_best_model = f1_score(target_test, predictions_test)\n",
    "auc_roc_best_model = roc_auc_score(target_test, best_model.predict_proba(features_test)[:, 1])\n",
    "\n",
    "print(\"Mejor modelo con corrección de desequilibrio de clases:\")\n",
    "print(\"F1 Score:\", f1_score_best_model)\n",
    "print(\"AUC-ROC Score:\", auc_roc_best_model)"
   ]
  },
  {
   "cell_type": "markdown",
   "metadata": {},
   "source": [
    "<div class=\"alert alert-block alert-warning\">\n",
    "<b>Comentario del revisor. (Iteración 1)</b> <a class=\"tocSkip\"></a>\n",
    "\n",
    "Excelente Jorge, tal como se debe hemos realizado la prueba final sobre el tercer conjunto. Aquí lo ideal sería no solo elegir el mejor modelo de las diferentes versiones del RandomForestClassifier sino también elegir contra el segundo modelo que debemos probar."
   ]
  },
  {
   "cell_type": "markdown",
   "metadata": {},
   "source": [
    "Se ha evaluado al mejor modelo en el conjunto de prueba, con los siguientes resultados:\n",
    "\n",
    "- F1 Score: 0.6025 (valor mayor al 0.59 mínimo requerido para aprobar la revisión)\n",
    "- AUC-ROC Score: 0.8523 (indicador de una buena capacidad de discriminación entre las clases)\n",
    "\n",
    "Los resultados mostrados indican que el modelo tiene buena capacidad en precisión y recall (F1 score), así como en discriminar entre las clases (AUC-ROC Score)."
   ]
  },
  {
   "cell_type": "markdown",
   "metadata": {},
   "source": [
    "# Conclusiones"
   ]
  },
  {
   "cell_type": "markdown",
   "metadata": {},
   "source": [
    "- El objetivo central del proyecto desarrollado era la predicción del abandono de clientes al banco Beta Bank, esto ha sido posible gracias al tratamiento de datos históricos sobre la conducta de clientes y su finalización de contratos. La intención es la retención de clientes existentes, debido a esto se buscó generar un modelo con kun valor de F1 minímo de 0.59 para la evaluación de la capacidad del modelo en detectar adecuadamente a los clientes candidatos a dejar el banco.\n",
    "\n",
    "- El modelo final fue capaz de superar el F1 score necesario del proyecto, lo cual demuestra suficiente capacidad para detectar a posibles clientes que dejarían el banco. El alto valor de AUC-ROC indica que el modelo tiene una fuerte capacidad de discriminación entre los clientes que abandonan y los que no.\n",
    "\n",
    "- El modelo muestra la facultad de predecir con alta precisión si algun cliente es candidato para abandonar el banco, mediante el aprendizaje automático. Con los scores arrojados por F1 y AUC-ROC, el modelo final es de gran ayuda para apoyar al banco a evitar el futuro abandono de clientes, y a la vez en implementar estrategias para reducir la tasa de fuga de clientes.\n"
   ]
  },
  {
   "cell_type": "markdown",
   "metadata": {},
   "source": [
    "<div class=\"alert alert-block alert-success\">\n",
    "\n",
    "<b>Comentario del revisor. (Iteración 1)</b> <a class=\"tocSkip\"></a>\n",
    "    \n",
    "Jorge, nuevamente quiero felicitarte, tanto tus conclusiones como el procedimiento en general ha sido perfecto. Destaco el gran compromiso demostrado a lo largo del proyecto!"
   ]
  },
  {
   "cell_type": "code",
   "execution_count": null,
   "metadata": {},
   "outputs": [],
   "source": []
  }
 ],
 "metadata": {
  "ExecuteTimeLog": [
   {
    "duration": 1633,
    "start_time": "2024-06-12T21:42:24.140Z"
   },
   {
    "duration": 1605,
    "start_time": "2024-06-12T21:42:38.718Z"
   },
   {
    "duration": 28,
    "start_time": "2024-06-12T21:43:02.152Z"
   },
   {
    "duration": 5,
    "start_time": "2024-06-12T21:43:34.883Z"
   },
   {
    "duration": 6,
    "start_time": "2024-06-12T21:43:37.998Z"
   },
   {
    "duration": 37,
    "start_time": "2024-06-12T21:44:44.795Z"
   },
   {
    "duration": 32,
    "start_time": "2024-06-12T21:45:07.222Z"
   },
   {
    "duration": 21,
    "start_time": "2024-06-12T22:26:22.943Z"
   },
   {
    "duration": 5176,
    "start_time": "2024-06-12T22:57:46.282Z"
   },
   {
    "duration": 34,
    "start_time": "2024-06-12T22:57:51.461Z"
   },
   {
    "duration": 23,
    "start_time": "2024-06-12T22:57:51.503Z"
   },
   {
    "duration": 5315,
    "start_time": "2024-06-18T21:22:44.404Z"
   },
   {
    "duration": 47,
    "start_time": "2024-06-18T21:22:49.723Z"
   },
   {
    "duration": 24,
    "start_time": "2024-06-18T21:22:49.775Z"
   },
   {
    "duration": 59,
    "start_time": "2024-06-18T21:23:52.550Z"
   },
   {
    "duration": 5,
    "start_time": "2024-06-18T21:28:52.860Z"
   },
   {
    "duration": 6,
    "start_time": "2024-06-18T21:29:52.864Z"
   },
   {
    "duration": 6,
    "start_time": "2024-06-18T21:36:36.492Z"
   },
   {
    "duration": 1238,
    "start_time": "2024-06-18T21:58:28.947Z"
   },
   {
    "duration": 51,
    "start_time": "2024-06-18T21:58:30.189Z"
   },
   {
    "duration": 8,
    "start_time": "2024-06-18T21:58:30.243Z"
   },
   {
    "duration": 7,
    "start_time": "2024-06-18T21:58:30.254Z"
   },
   {
    "duration": 6,
    "start_time": "2024-06-18T21:58:30.267Z"
   },
   {
    "duration": 5,
    "start_time": "2024-06-18T21:58:30.276Z"
   },
   {
    "duration": 16,
    "start_time": "2024-06-18T21:59:51.533Z"
   },
   {
    "duration": 1158,
    "start_time": "2024-06-18T21:59:52.992Z"
   },
   {
    "duration": 1118,
    "start_time": "2024-06-18T22:00:18.888Z"
   },
   {
    "duration": 51,
    "start_time": "2024-06-18T22:00:20.010Z"
   },
   {
    "duration": 6,
    "start_time": "2024-06-18T22:00:20.064Z"
   },
   {
    "duration": 6,
    "start_time": "2024-06-18T22:00:20.073Z"
   },
   {
    "duration": 6,
    "start_time": "2024-06-18T22:00:20.084Z"
   },
   {
    "duration": 51,
    "start_time": "2024-06-18T22:00:20.093Z"
   },
   {
    "duration": 1126,
    "start_time": "2024-06-18T22:02:43.987Z"
   },
   {
    "duration": 1193,
    "start_time": "2024-06-18T22:03:12.330Z"
   },
   {
    "duration": 43,
    "start_time": "2024-06-18T22:03:13.530Z"
   },
   {
    "duration": 6,
    "start_time": "2024-06-18T22:03:13.575Z"
   },
   {
    "duration": 7,
    "start_time": "2024-06-18T22:03:13.584Z"
   },
   {
    "duration": 36,
    "start_time": "2024-06-18T22:03:13.595Z"
   },
   {
    "duration": 18,
    "start_time": "2024-06-18T22:03:13.643Z"
   },
   {
    "duration": 1201,
    "start_time": "2024-06-18T22:05:13.757Z"
   },
   {
    "duration": 43,
    "start_time": "2024-06-18T22:05:14.961Z"
   },
   {
    "duration": 5,
    "start_time": "2024-06-18T22:05:15.007Z"
   },
   {
    "duration": 6,
    "start_time": "2024-06-18T22:05:15.031Z"
   },
   {
    "duration": 7,
    "start_time": "2024-06-18T22:05:15.039Z"
   },
   {
    "duration": 16,
    "start_time": "2024-06-18T22:05:15.050Z"
   },
   {
    "duration": 12,
    "start_time": "2024-06-18T22:05:15.069Z"
   },
   {
    "duration": 1228,
    "start_time": "2024-06-18T22:09:38.628Z"
   },
   {
    "duration": 44,
    "start_time": "2024-06-18T22:09:39.859Z"
   },
   {
    "duration": 5,
    "start_time": "2024-06-18T22:09:39.906Z"
   },
   {
    "duration": 5,
    "start_time": "2024-06-18T22:09:39.931Z"
   },
   {
    "duration": 8,
    "start_time": "2024-06-18T22:09:39.940Z"
   },
   {
    "duration": 16,
    "start_time": "2024-06-18T22:09:39.951Z"
   },
   {
    "duration": 11,
    "start_time": "2024-06-18T22:09:39.970Z"
   },
   {
    "duration": 1024,
    "start_time": "2024-06-18T22:09:39.984Z"
   },
   {
    "duration": 115,
    "start_time": "2024-06-18T22:09:41.010Z"
   },
   {
    "duration": 1222,
    "start_time": "2024-06-18T22:32:44.364Z"
   },
   {
    "duration": 51,
    "start_time": "2024-06-18T22:32:45.590Z"
   },
   {
    "duration": 6,
    "start_time": "2024-06-18T22:32:45.644Z"
   },
   {
    "duration": 7,
    "start_time": "2024-06-18T22:32:45.656Z"
   },
   {
    "duration": 7,
    "start_time": "2024-06-18T22:32:45.668Z"
   },
   {
    "duration": 63,
    "start_time": "2024-06-18T22:32:45.679Z"
   },
   {
    "duration": 15,
    "start_time": "2024-06-18T22:32:45.745Z"
   },
   {
    "duration": 1009,
    "start_time": "2024-06-18T22:32:45.765Z"
   },
   {
    "duration": 138,
    "start_time": "2024-06-18T22:32:46.777Z"
   },
   {
    "duration": 8,
    "start_time": "2024-06-18T22:32:46.930Z"
   },
   {
    "duration": 7,
    "start_time": "2024-06-18T22:32:46.943Z"
   },
   {
    "duration": 1296,
    "start_time": "2024-06-18T22:46:07.770Z"
   },
   {
    "duration": 56,
    "start_time": "2024-06-18T22:46:09.070Z"
   },
   {
    "duration": 5,
    "start_time": "2024-06-18T22:46:09.132Z"
   },
   {
    "duration": 7,
    "start_time": "2024-06-18T22:46:09.141Z"
   },
   {
    "duration": 7,
    "start_time": "2024-06-18T22:46:09.151Z"
   },
   {
    "duration": 19,
    "start_time": "2024-06-18T22:46:09.162Z"
   },
   {
    "duration": 59,
    "start_time": "2024-06-18T22:46:09.184Z"
   },
   {
    "duration": 1001,
    "start_time": "2024-06-18T22:46:09.247Z"
   },
   {
    "duration": 135,
    "start_time": "2024-06-18T22:46:10.251Z"
   },
   {
    "duration": 6,
    "start_time": "2024-06-18T22:46:10.391Z"
   },
   {
    "duration": 9,
    "start_time": "2024-06-18T22:46:10.400Z"
   },
   {
    "duration": 1271,
    "start_time": "2024-06-18T22:46:28.319Z"
   },
   {
    "duration": 59,
    "start_time": "2024-06-18T22:46:29.595Z"
   },
   {
    "duration": 6,
    "start_time": "2024-06-18T22:46:29.657Z"
   },
   {
    "duration": 7,
    "start_time": "2024-06-18T22:46:29.667Z"
   },
   {
    "duration": 8,
    "start_time": "2024-06-18T22:46:29.680Z"
   },
   {
    "duration": 53,
    "start_time": "2024-06-18T22:46:29.691Z"
   },
   {
    "duration": 13,
    "start_time": "2024-06-18T22:46:29.747Z"
   },
   {
    "duration": 1008,
    "start_time": "2024-06-18T22:46:29.764Z"
   },
   {
    "duration": 129,
    "start_time": "2024-06-18T22:46:30.776Z"
   },
   {
    "duration": 8,
    "start_time": "2024-06-18T22:46:30.908Z"
   },
   {
    "duration": 7,
    "start_time": "2024-06-18T22:46:30.931Z"
   },
   {
    "duration": 1241,
    "start_time": "2024-06-18T22:47:12.220Z"
   },
   {
    "duration": 74,
    "start_time": "2024-06-18T22:47:13.464Z"
   },
   {
    "duration": 7,
    "start_time": "2024-06-18T22:47:13.541Z"
   },
   {
    "duration": 12,
    "start_time": "2024-06-18T22:47:13.553Z"
   },
   {
    "duration": 8,
    "start_time": "2024-06-18T22:47:13.568Z"
   },
   {
    "duration": 50,
    "start_time": "2024-06-18T22:47:13.580Z"
   },
   {
    "duration": 12,
    "start_time": "2024-06-18T22:47:13.634Z"
   },
   {
    "duration": 992,
    "start_time": "2024-06-18T22:47:13.649Z"
   },
   {
    "duration": 128,
    "start_time": "2024-06-18T22:47:14.647Z"
   },
   {
    "duration": 6,
    "start_time": "2024-06-18T22:47:14.781Z"
   },
   {
    "duration": 8,
    "start_time": "2024-06-18T22:47:14.791Z"
   },
   {
    "duration": 1211,
    "start_time": "2024-06-18T22:48:16.154Z"
   },
   {
    "duration": 61,
    "start_time": "2024-06-18T22:48:17.370Z"
   },
   {
    "duration": 9,
    "start_time": "2024-06-18T22:48:17.434Z"
   },
   {
    "duration": 7,
    "start_time": "2024-06-18T22:48:17.448Z"
   },
   {
    "duration": 7,
    "start_time": "2024-06-18T22:48:17.458Z"
   },
   {
    "duration": 19,
    "start_time": "2024-06-18T22:48:17.469Z"
   },
   {
    "duration": 12,
    "start_time": "2024-06-18T22:48:17.530Z"
   },
   {
    "duration": 982,
    "start_time": "2024-06-18T22:48:17.545Z"
   },
   {
    "duration": 134,
    "start_time": "2024-06-18T22:48:18.531Z"
   },
   {
    "duration": 7,
    "start_time": "2024-06-18T22:48:18.671Z"
   },
   {
    "duration": 7,
    "start_time": "2024-06-18T22:48:18.681Z"
   },
   {
    "duration": 91619,
    "start_time": "2024-06-18T22:48:18.691Z"
   },
   {
    "duration": 5,
    "start_time": "2024-06-18T22:49:50.348Z"
   },
   {
    "duration": 1246,
    "start_time": "2024-06-18T22:51:06.027Z"
   },
   {
    "duration": 54,
    "start_time": "2024-06-18T22:51:07.277Z"
   },
   {
    "duration": 5,
    "start_time": "2024-06-18T22:51:07.334Z"
   },
   {
    "duration": 7,
    "start_time": "2024-06-18T22:51:07.342Z"
   },
   {
    "duration": 7,
    "start_time": "2024-06-18T22:51:07.354Z"
   },
   {
    "duration": 19,
    "start_time": "2024-06-18T22:51:07.364Z"
   },
   {
    "duration": 12,
    "start_time": "2024-06-18T22:51:07.430Z"
   },
   {
    "duration": 1005,
    "start_time": "2024-06-18T22:51:07.444Z"
   },
   {
    "duration": 130,
    "start_time": "2024-06-18T22:51:08.452Z"
   },
   {
    "duration": 5,
    "start_time": "2024-06-18T22:51:08.587Z"
   },
   {
    "duration": 8,
    "start_time": "2024-06-18T22:51:08.595Z"
   },
   {
    "duration": 1173,
    "start_time": "2024-06-18T22:53:12.982Z"
   },
   {
    "duration": 43,
    "start_time": "2024-06-18T22:53:14.159Z"
   },
   {
    "duration": 26,
    "start_time": "2024-06-18T22:53:14.205Z"
   },
   {
    "duration": 6,
    "start_time": "2024-06-18T22:53:14.235Z"
   },
   {
    "duration": 7,
    "start_time": "2024-06-18T22:53:14.244Z"
   },
   {
    "duration": 16,
    "start_time": "2024-06-18T22:53:14.258Z"
   },
   {
    "duration": 12,
    "start_time": "2024-06-18T22:53:14.276Z"
   },
   {
    "duration": 1031,
    "start_time": "2024-06-18T22:53:14.291Z"
   },
   {
    "duration": 115,
    "start_time": "2024-06-18T22:53:15.329Z"
   },
   {
    "duration": 6,
    "start_time": "2024-06-18T22:53:15.448Z"
   },
   {
    "duration": 11,
    "start_time": "2024-06-18T22:53:15.457Z"
   },
   {
    "duration": 1337,
    "start_time": "2024-06-18T22:54:36.622Z"
   },
   {
    "duration": 63,
    "start_time": "2024-06-18T22:54:37.962Z"
   },
   {
    "duration": 7,
    "start_time": "2024-06-18T22:54:38.029Z"
   },
   {
    "duration": 7,
    "start_time": "2024-06-18T22:54:38.041Z"
   },
   {
    "duration": 8,
    "start_time": "2024-06-18T22:54:38.054Z"
   },
   {
    "duration": 21,
    "start_time": "2024-06-18T22:54:38.067Z"
   },
   {
    "duration": 46,
    "start_time": "2024-06-18T22:54:38.092Z"
   },
   {
    "duration": 1148,
    "start_time": "2024-06-18T22:54:38.141Z"
   },
   {
    "duration": 119,
    "start_time": "2024-06-18T22:54:39.292Z"
   },
   {
    "duration": 14,
    "start_time": "2024-06-18T22:54:39.417Z"
   },
   {
    "duration": 9,
    "start_time": "2024-06-18T22:54:39.435Z"
   },
   {
    "duration": 92251,
    "start_time": "2024-06-18T22:54:39.447Z"
   },
   {
    "duration": 6,
    "start_time": "2024-06-18T22:56:11.730Z"
   },
   {
    "duration": 134,
    "start_time": "2024-06-18T23:04:47.767Z"
   },
   {
    "duration": 1251,
    "start_time": "2024-06-18T23:28:27.530Z"
   },
   {
    "duration": 54,
    "start_time": "2024-06-18T23:28:28.784Z"
   },
   {
    "duration": 6,
    "start_time": "2024-06-18T23:28:28.842Z"
   },
   {
    "duration": 7,
    "start_time": "2024-06-18T23:28:28.853Z"
   },
   {
    "duration": 8,
    "start_time": "2024-06-18T23:28:28.864Z"
   },
   {
    "duration": 55,
    "start_time": "2024-06-18T23:28:28.876Z"
   },
   {
    "duration": 13,
    "start_time": "2024-06-18T23:28:28.934Z"
   },
   {
    "duration": 1008,
    "start_time": "2024-06-18T23:28:28.951Z"
   },
   {
    "duration": 127,
    "start_time": "2024-06-18T23:28:29.963Z"
   },
   {
    "duration": 7,
    "start_time": "2024-06-18T23:28:30.096Z"
   },
   {
    "duration": 7,
    "start_time": "2024-06-18T23:28:30.106Z"
   },
   {
    "duration": 91805,
    "start_time": "2024-06-18T23:28:30.131Z"
   },
   {
    "duration": 7,
    "start_time": "2024-06-18T23:30:01.939Z"
   },
   {
    "duration": 142,
    "start_time": "2024-06-18T23:30:01.950Z"
   },
   {
    "duration": 1269,
    "start_time": "2024-06-19T20:01:47.513Z"
   },
   {
    "duration": 61,
    "start_time": "2024-06-19T20:01:48.786Z"
   },
   {
    "duration": 5,
    "start_time": "2024-06-19T20:01:48.850Z"
   },
   {
    "duration": 7,
    "start_time": "2024-06-19T20:01:48.861Z"
   },
   {
    "duration": 7,
    "start_time": "2024-06-19T20:01:48.871Z"
   },
   {
    "duration": 42,
    "start_time": "2024-06-19T20:01:48.880Z"
   },
   {
    "duration": 11,
    "start_time": "2024-06-19T20:01:48.925Z"
   },
   {
    "duration": 993,
    "start_time": "2024-06-19T20:01:48.941Z"
   },
   {
    "duration": 118,
    "start_time": "2024-06-19T20:01:49.937Z"
   },
   {
    "duration": 7,
    "start_time": "2024-06-19T20:01:50.059Z"
   },
   {
    "duration": 7,
    "start_time": "2024-06-19T20:01:50.068Z"
   },
   {
    "duration": 88483,
    "start_time": "2024-06-19T20:01:50.077Z"
   },
   {
    "duration": 8,
    "start_time": "2024-06-19T20:03:18.562Z"
   },
   {
    "duration": 127,
    "start_time": "2024-06-19T20:03:18.572Z"
   },
   {
    "duration": 1226,
    "start_time": "2024-06-24T22:46:07.654Z"
   },
   {
    "duration": 48,
    "start_time": "2024-06-24T22:46:08.884Z"
   },
   {
    "duration": 5,
    "start_time": "2024-06-24T22:46:08.938Z"
   },
   {
    "duration": 8,
    "start_time": "2024-06-24T22:46:08.947Z"
   },
   {
    "duration": 7,
    "start_time": "2024-06-24T22:46:08.958Z"
   },
   {
    "duration": 15,
    "start_time": "2024-06-24T22:46:08.968Z"
   },
   {
    "duration": 53,
    "start_time": "2024-06-24T22:46:08.986Z"
   },
   {
    "duration": 978,
    "start_time": "2024-06-24T22:46:09.043Z"
   },
   {
    "duration": 121,
    "start_time": "2024-06-24T22:46:10.024Z"
   },
   {
    "duration": 12,
    "start_time": "2024-06-24T22:46:10.153Z"
   },
   {
    "duration": 7,
    "start_time": "2024-06-24T22:46:10.172Z"
   },
   {
    "duration": 89061,
    "start_time": "2024-06-24T22:46:10.183Z"
   },
   {
    "duration": 6,
    "start_time": "2024-06-24T22:47:39.247Z"
   },
   {
    "duration": 128,
    "start_time": "2024-06-24T22:47:39.259Z"
   },
   {
    "duration": 1244,
    "start_time": "2024-06-24T22:59:11.366Z"
   },
   {
    "duration": 54,
    "start_time": "2024-06-24T22:59:12.614Z"
   },
   {
    "duration": 5,
    "start_time": "2024-06-24T22:59:12.672Z"
   },
   {
    "duration": 7,
    "start_time": "2024-06-24T22:59:12.681Z"
   },
   {
    "duration": 39,
    "start_time": "2024-06-24T22:59:12.693Z"
   },
   {
    "duration": 16,
    "start_time": "2024-06-24T22:59:12.738Z"
   },
   {
    "duration": 12,
    "start_time": "2024-06-24T22:59:12.757Z"
   },
   {
    "duration": 1007,
    "start_time": "2024-06-24T22:59:12.772Z"
   },
   {
    "duration": 114,
    "start_time": "2024-06-24T22:59:13.782Z"
   },
   {
    "duration": 6,
    "start_time": "2024-06-24T22:59:13.900Z"
   },
   {
    "duration": 22,
    "start_time": "2024-06-24T22:59:13.909Z"
   },
   {
    "duration": 89012,
    "start_time": "2024-06-24T22:59:13.934Z"
   },
   {
    "duration": 8,
    "start_time": "2024-06-24T23:00:42.949Z"
   },
   {
    "duration": 0,
    "start_time": "2024-06-24T23:00:43.408Z"
   },
   {
    "duration": 0,
    "start_time": "2024-06-24T23:00:43.414Z"
   },
   {
    "duration": 0,
    "start_time": "2024-06-24T23:00:43.415Z"
   },
   {
    "duration": 1249,
    "start_time": "2024-06-24T23:01:02.051Z"
   },
   {
    "duration": 47,
    "start_time": "2024-06-24T23:01:03.303Z"
   },
   {
    "duration": 5,
    "start_time": "2024-06-24T23:01:03.353Z"
   },
   {
    "duration": 6,
    "start_time": "2024-06-24T23:01:03.363Z"
   },
   {
    "duration": 7,
    "start_time": "2024-06-24T23:01:03.372Z"
   },
   {
    "duration": 55,
    "start_time": "2024-06-24T23:01:03.383Z"
   },
   {
    "duration": 12,
    "start_time": "2024-06-24T23:01:03.440Z"
   },
   {
    "duration": 977,
    "start_time": "2024-06-24T23:01:03.455Z"
   },
   {
    "duration": 118,
    "start_time": "2024-06-24T23:01:04.436Z"
   },
   {
    "duration": 6,
    "start_time": "2024-06-24T23:01:04.559Z"
   },
   {
    "duration": 6,
    "start_time": "2024-06-24T23:01:04.568Z"
   },
   {
    "duration": 90014,
    "start_time": "2024-06-24T23:01:04.577Z"
   },
   {
    "duration": 7,
    "start_time": "2024-06-24T23:02:34.593Z"
   },
   {
    "duration": 419,
    "start_time": "2024-06-24T23:02:34.603Z"
   },
   {
    "duration": 0,
    "start_time": "2024-06-24T23:02:35.031Z"
   },
   {
    "duration": 0,
    "start_time": "2024-06-24T23:02:35.033Z"
   },
   {
    "duration": 10,
    "start_time": "2024-06-24T23:07:41.090Z"
   },
   {
    "duration": 1714,
    "start_time": "2024-06-24T23:07:54.929Z"
   },
   {
    "duration": 6,
    "start_time": "2024-06-24T23:08:03.806Z"
   },
   {
    "duration": 770,
    "start_time": "2024-06-24T23:12:58.763Z"
   },
   {
    "duration": 5,
    "start_time": "2024-06-24T23:13:02.669Z"
   },
   {
    "duration": 812,
    "start_time": "2024-06-24T23:13:40.440Z"
   },
   {
    "duration": 4,
    "start_time": "2024-06-24T23:13:44.058Z"
   },
   {
    "duration": 1196,
    "start_time": "2024-06-24T23:15:28.100Z"
   },
   {
    "duration": 52,
    "start_time": "2024-06-24T23:15:29.299Z"
   },
   {
    "duration": 5,
    "start_time": "2024-06-24T23:15:29.355Z"
   },
   {
    "duration": 7,
    "start_time": "2024-06-24T23:15:29.364Z"
   },
   {
    "duration": 8,
    "start_time": "2024-06-24T23:15:29.374Z"
   },
   {
    "duration": 52,
    "start_time": "2024-06-24T23:15:29.385Z"
   },
   {
    "duration": 12,
    "start_time": "2024-06-24T23:15:29.441Z"
   },
   {
    "duration": 988,
    "start_time": "2024-06-24T23:15:29.456Z"
   },
   {
    "duration": 118,
    "start_time": "2024-06-24T23:15:30.447Z"
   },
   {
    "duration": 6,
    "start_time": "2024-06-24T23:15:30.571Z"
   },
   {
    "duration": 7,
    "start_time": "2024-06-24T23:15:30.579Z"
   },
   {
    "duration": 89028,
    "start_time": "2024-06-24T23:15:30.589Z"
   },
   {
    "duration": 5,
    "start_time": "2024-06-24T23:16:59.620Z"
   },
   {
    "duration": 1673,
    "start_time": "2024-06-24T23:16:59.633Z"
   },
   {
    "duration": 5,
    "start_time": "2024-06-24T23:17:01.309Z"
   },
   {
    "duration": 525,
    "start_time": "2024-06-24T23:17:01.317Z"
   },
   {
    "duration": 4,
    "start_time": "2024-06-24T23:17:01.845Z"
   },
   {
    "duration": 91,
    "start_time": "2024-06-24T23:17:01.852Z"
   }
  ],
  "kernelspec": {
   "display_name": "Python 3 (ipykernel)",
   "language": "python",
   "name": "python3"
  },
  "language_info": {
   "codemirror_mode": {
    "name": "ipython",
    "version": 3
   },
   "file_extension": ".py",
   "mimetype": "text/x-python",
   "name": "python",
   "nbconvert_exporter": "python",
   "pygments_lexer": "ipython3",
   "version": "3.9.19"
  },
  "toc": {
   "base_numbering": 1,
   "nav_menu": {},
   "number_sections": true,
   "sideBar": true,
   "skip_h1_title": true,
   "title_cell": "Table of Contents",
   "title_sidebar": "Contents",
   "toc_cell": false,
   "toc_position": {},
   "toc_section_display": true,
   "toc_window_display": false
  }
 },
 "nbformat": 4,
 "nbformat_minor": 2
}
